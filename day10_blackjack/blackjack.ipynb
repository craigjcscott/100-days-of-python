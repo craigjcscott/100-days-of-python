{
 "cells": [
  {
   "cell_type": "code",
   "execution_count": 48,
   "id": "b9c2014f",
   "metadata": {},
   "outputs": [],
   "source": [
    "import numpy as np\n",
    "import os\n",
    "import art"
   ]
  },
  {
   "cell_type": "code",
   "execution_count": 49,
   "id": "b77e64c4",
   "metadata": {},
   "outputs": [
    {
     "name": "stdout",
     "output_type": "stream",
     "text": [
      "Do you want to play a game of blackjack? Enter 'y' for yes, or 'n' for noy\n"
     ]
    }
   ],
   "source": [
    "start_game = input(\"Do you want to play a game of blackjack? Enter 'y' for yes, or 'n' for no\")\n",
    "if start_game.lower() == 'y':\n",
    "    game_running = True"
   ]
  },
  {
   "cell_type": "code",
   "execution_count": 50,
   "id": "fe04f7fc",
   "metadata": {},
   "outputs": [],
   "source": [
    "# Create the deck of cards\n",
    "cards = [2,3,4,5,6,7,8,9,10,10,10,10,11]\n",
    "fulldeck = np.repeat(cards,4)\n",
    "\n",
    "def draw_card(hand):\n",
    "    hand.append(np.random.choice(fulldeck, 1, replace=False)[0])\n",
    "    \n",
    "def check_if_bust(hand):\n",
    "    if sum(hand) > 21:\n",
    "        for card in hand:\n",
    "            if card == 11:\n",
    "                card = 1\n",
    "                \n",
    "def show_hand(hand):\n",
    "    print(f'Cards: {hand}, Score: {sum(hand)}')"
   ]
  },
  {
   "cell_type": "code",
   "execution_count": 51,
   "id": "9a597284",
   "metadata": {},
   "outputs": [],
   "source": [
    "def blackjack():\n",
    "    \n",
    "    print(art.logo)\n",
    "    \n",
    "    global player_hand \n",
    "    player_hand = list(np.random.choice(fulldeck, 2, replace=False))\n",
    "    global dealer_hand\n",
    "    dealer_hand = list(np.random.choice(fulldeck, 2, replace=False))\n",
    "\n",
    "    if sum(dealer_hand) == 21:\n",
    "        print(f'Dealer has BlackJack! You lose. Final hand: {player_hand}, Final score: {sum(player_hand)}')\n",
    "        print(f'Computer final hand: {dealer_hand}, final score: {sum(dealer_hand)}')\n",
    "        return\n",
    "    elif sum(player_hand) == 21:\n",
    "        print(f'You have BlackJack! You win. Final hand: {player_hand}, Final score: {sum(player_hand)}')\n",
    "        print(f'Computer final hand: {dealer_hand}, final score: {sum(dealer_hand)}') \n",
    "        return\n",
    "    else:\n",
    "        show_hand(player_hand)\n",
    "        print(f\"The dealer's second card is: {dealer_hand[1]}\")\n",
    "        player_turn = True\n",
    "        \n",
    "    while player_turn:\n",
    "        hit_or_stick = input(\"Type 'y' to get another card, type 'n' to pass\")\n",
    "        if hit_or_stick.lower() == 'y':\n",
    "            draw_card(player_hand)\n",
    "            check_if_bust(player_hand)\n",
    "            show_hand(player_hand)\n",
    "            if sum(player_hand) > 21:\n",
    "                print(f'You went bust! Final hand: {player_hand}, Final score: {sum(player_hand)}')\n",
    "                print(f'Computer final hand: {dealer_hand}, final score: {sum(dealer_hand)}')      \n",
    "                player_turn = False\n",
    "            else:\n",
    "                show_hand(player_hand)\n",
    "        else:\n",
    "            player_turn = False\n",
    "            dealer_turn = True\n",
    "            \n",
    "    while dealer_turn:\n",
    "        if sum(dealer_hand) <=16:\n",
    "            draw_card(dealer_hand)\n",
    "            check_if_bust(dealer_hand)\n",
    "            show_hand(dealer_hand)\n",
    "            if sum(dealer_hand) > 21:\n",
    "                print(f'Dealer went bust! Final hand: {player_hand}, Final score: {sum(player_hand)}')\n",
    "                print(f'Computer final hand: {dealer_hand}, final score: {sum(dealer_hand)}')      \n",
    "                dealer_turn = False\n",
    "        else:\n",
    "            if sum(dealer_hand) >= sum(player_hand):\n",
    "                print(f'Dealer wins! Final hand: {player_hand}, Final score: {sum(player_hand)}')\n",
    "                print(f'Computer final hand: {dealer_hand}, final score: {sum(dealer_hand)}')\n",
    "            else:\n",
    "                print(f'You win! Final hand: {player_hand}, Final score: {sum(player_hand)}')\n",
    "                print(f'Computer final hand: {dealer_hand}, final score: {sum(dealer_hand)}')\n",
    "            dealer_turn = False"
   ]
  },
  {
   "cell_type": "code",
   "execution_count": null,
   "id": "3b6f62ac",
   "metadata": {},
   "outputs": [
    {
     "name": "stdout",
     "output_type": "stream",
     "text": [
      "\n",
      ".------.            _     _            _    _            _    \n",
      "|A_  _ |.          | |   | |          | |  (_)          | |   \n",
      "|( \\/ ).-----.     | |__ | | __ _  ___| | ___  __ _  ___| | __\n",
      "| \\  /|K /\\  |     | '_ \\| |/ _` |/ __| |/ / |/ _` |/ __| |/ /\n",
      "|  \\/ | /  \\ |     | |_) | | (_| | (__|   <| | (_| | (__|   < \n",
      "`-----| \\  / |     |_.__/|_|\\__,_|\\___|_|\\_\\ |\\__,_|\\___|_|\\_\\\n",
      "      |  \\/ K|                            _/ |                \n",
      "      `------'                           |__/           \n",
      "\n",
      "Cards: [2, 8], Score: 10\n",
      "The dealer's second card is: 3\n",
      "Type 'y' to get another card, type 'n' to passy\n",
      "Cards: [2, 8, 10], Score: 20\n",
      "Cards: [2, 8, 10], Score: 20\n",
      "Type 'y' to get another card, type 'n' to passn\n",
      "Cards: [10, 3, 6], Score: 19\n",
      "You win! Final hand: [2, 8, 10], Final score: 20\n",
      "Computer final hand: [10, 3, 6], final score: 19\n"
     ]
    }
   ],
   "source": [
    "while game_running:\n",
    "    blackjack()\n",
    "    \n",
    "    play_again = input(\"Do you want to play again? Enter 'y' for yes, or 'n' for no\")\n",
    "    if play_again != 'y':\n",
    "        game_running == False"
   ]
  },
  {
   "cell_type": "code",
   "execution_count": null,
   "id": "5cd53906",
   "metadata": {},
   "outputs": [],
   "source": []
  }
 ],
 "metadata": {
  "kernelspec": {
   "display_name": "Python 3",
   "language": "python",
   "name": "python3"
  },
  "language_info": {
   "codemirror_mode": {
    "name": "ipython",
    "version": 3
   },
   "file_extension": ".py",
   "mimetype": "text/x-python",
   "name": "python",
   "nbconvert_exporter": "python",
   "pygments_lexer": "ipython3",
   "version": "3.8.8"
  }
 },
 "nbformat": 4,
 "nbformat_minor": 5
}
